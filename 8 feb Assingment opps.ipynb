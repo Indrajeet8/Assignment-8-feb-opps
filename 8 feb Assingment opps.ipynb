{
 "cells": [
  {
   "cell_type": "markdown",
   "id": "dea6993a-787d-4dcc-8c5e-412cd3558c9e",
   "metadata": {},
   "source": [
    "Assingment    "
   ]
  },
  {
   "cell_type": "markdown",
   "id": "47cdbd20-17e1-4249-bb0d-c3bc97960145",
   "metadata": {},
   "source": [
    "Ques 1 "
   ]
  },
  {
   "cell_type": "code",
   "execution_count": 1,
   "id": "d22b6fff-1336-4e59-be71-802e562d762d",
   "metadata": {},
   "outputs": [],
   "source": [
    "#Abstraction is the process of hiding the internal details of an application from the outer world. Abstraction is used to describe things in simple terms. It’s used to create a boundary between the application and the client programs."
   ]
  },
  {
   "cell_type": "code",
   "execution_count": null,
   "id": "834697ce-8680-4aad-a368-3bb7f84acd17",
   "metadata": {},
   "outputs": [],
   "source": [
    "class pwskills1 :\n",
    "    \n",
    "    def __init__(self ,phone_number , email_id , student_id ):\n",
    "        self.phone_number = phone_number\n",
    "        self.email_id = email_id\n",
    "        self.student_id = student_id\n",
    "    \n",
    "    def return_student_deetials(self) : \n",
    "        return self.student_id ,self.phone_number ,self.email_id\n",
    "    "
   ]
  },
  {
   "cell_type": "markdown",
   "id": "2695367d-3383-4a57-a00a-9ccded77a3cc",
   "metadata": {},
   "source": [
    "Ques 2"
   ]
  },
  {
   "cell_type": "code",
   "execution_count": null,
   "id": "16b10562-fb0b-4872-8ae3-45c1c5757696",
   "metadata": {},
   "outputs": [],
   "source": [
    "#Abstraction is a way of representing some specific data. Encapsulation is a way of hiding the complexity of something and exposing only the parts you wish to expose"
   ]
  },
  {
   "cell_type": "code",
   "execution_count": null,
   "id": "30afe5c1-369c-43b7-98d2-350f048c795c",
   "metadata": {},
   "outputs": [],
   "source": [
    "Example #if you have a class that has one or more private fields that you use to store the data, then you are in encapsulation."
   ]
  },
  {
   "cell_type": "markdown",
   "id": "c1f46321-d58a-4ad1-ae8a-69e5f25d2248",
   "metadata": {},
   "source": [
    "Ques 3"
   ]
  },
  {
   "cell_type": "code",
   "execution_count": null,
   "id": "618d4236-4b9e-4835-9f16-f29df2f1e888",
   "metadata": {},
   "outputs": [],
   "source": [
    "#The 'abc' module in Python library provides the infrastructure for defining custom abstract base classes. 'abc' works by marking methods of the base class as abstract. This is done by @absttractmethod decorator."
   ]
  },
  {
   "cell_type": "code",
   "execution_count": null,
   "id": "8ab52f7f-587f-46a3-b10f-f72a17549a1a",
   "metadata": {},
   "outputs": [],
   "source": []
  }
 ],
 "metadata": {
  "kernelspec": {
   "display_name": "Python 3 (ipykernel)",
   "language": "python",
   "name": "python3"
  },
  "language_info": {
   "codemirror_mode": {
    "name": "ipython",
    "version": 3
   },
   "file_extension": ".py",
   "mimetype": "text/x-python",
   "name": "python",
   "nbconvert_exporter": "python",
   "pygments_lexer": "ipython3",
   "version": "3.10.8"
  }
 },
 "nbformat": 4,
 "nbformat_minor": 5
}
